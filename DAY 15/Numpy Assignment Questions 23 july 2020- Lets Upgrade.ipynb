{
 "cells": [
  {
   "cell_type": "markdown",
   "metadata": {},
   "source": [
    "# 1. Create a 3x3x3 array with random values "
   ]
  },
  {
   "cell_type": "code",
   "execution_count": 3,
   "metadata": {},
   "outputs": [],
   "source": [
    "import numpy as np"
   ]
  },
  {
   "cell_type": "code",
   "execution_count": 10,
   "metadata": {},
   "outputs": [],
   "source": [
    "a = np.random.random((3,3,3))"
   ]
  },
  {
   "cell_type": "code",
   "execution_count": 11,
   "metadata": {},
   "outputs": [
    {
     "data": {
      "text/plain": [
       "array([[[0.37869769, 0.25410732, 0.56981824],\n",
       "        [0.67163018, 0.34988429, 0.23296033],\n",
       "        [0.39347691, 0.43519679, 0.16574048]],\n",
       "\n",
       "       [[0.38861853, 0.90193677, 0.38558964],\n",
       "        [0.0040008 , 0.63456303, 0.1039468 ],\n",
       "        [0.47883878, 0.44185383, 0.97189817]],\n",
       "\n",
       "       [[0.76871221, 0.86038817, 0.67436619],\n",
       "        [0.67279955, 0.88073852, 0.19185364],\n",
       "        [0.58806404, 0.3427373 , 0.14354093]]])"
      ]
     },
     "execution_count": 11,
     "metadata": {},
     "output_type": "execute_result"
    }
   ],
   "source": [
    "a"
   ]
  },
  {
   "cell_type": "code",
   "execution_count": 12,
   "metadata": {},
   "outputs": [
    {
     "data": {
      "text/plain": [
       "(3, 3, 3)"
      ]
     },
     "execution_count": 12,
     "metadata": {},
     "output_type": "execute_result"
    }
   ],
   "source": [
    "a.shape"
   ]
  },
  {
   "cell_type": "markdown",
   "metadata": {},
   "source": [
    "# 2.Create a 5x5 matrix with values 1,2,3,4 just below the diagonal"
   ]
  },
  {
   "cell_type": "code",
   "execution_count": 25,
   "metadata": {},
   "outputs": [
    {
     "name": "stdout",
     "output_type": "stream",
     "text": [
      "[[0 0 0 0 0]\n",
      " [1 0 0 0 0]\n",
      " [0 2 0 0 0]\n",
      " [0 0 3 0 0]\n",
      " [0 0 0 4 0]]\n"
     ]
    }
   ],
   "source": [
    "Z = np.diag(1+np.arange(4),k=-1)\n",
    "\n",
    "print(Z)"
   ]
  },
  {
   "cell_type": "markdown",
   "metadata": {},
   "source": [
    "# 3.Create a 8x8 matrix and fill it with a checkerboard pattern"
   ]
  },
  {
   "cell_type": "code",
   "execution_count": 13,
   "metadata": {},
   "outputs": [
    {
     "name": "stdout",
     "output_type": "stream",
     "text": [
      "Checkerboard pattern:\n",
      "[[0 1 0 1 0 1 0 1]\n",
      " [1 0 1 0 1 0 1 0]\n",
      " [0 1 0 1 0 1 0 1]\n",
      " [1 0 1 0 1 0 1 0]\n",
      " [0 1 0 1 0 1 0 1]\n",
      " [1 0 1 0 1 0 1 0]\n",
      " [0 1 0 1 0 1 0 1]\n",
      " [1 0 1 0 1 0 1 0]]\n"
     ]
    }
   ],
   "source": [
    "x = np.ones((3,3))\n",
    "print(\"Checkerboard pattern:\")\n",
    "x = np.zeros((8,8),dtype=int)\n",
    "x[1::2,::2] = 1\n",
    "x[::2,1::2] = 1\n",
    "print(x)"
   ]
  },
  {
   "cell_type": "markdown",
   "metadata": {},
   "source": [
    "# 4. Normalize a 5x5 random matrix"
   ]
  },
  {
   "cell_type": "code",
   "execution_count": 15,
   "metadata": {},
   "outputs": [
    {
     "name": "stdout",
     "output_type": "stream",
     "text": [
      "Original Array:\n",
      "[[0.74437119 0.98698483 0.3606131  0.86552921 0.50294541]\n",
      " [0.18053713 0.61369822 0.53672459 0.44052193 0.62189759]\n",
      " [0.26443336 0.0536107  0.36719278 0.60616695 0.02334276]\n",
      " [0.16252349 0.68297094 0.62051844 0.286616   0.71292617]\n",
      " [0.6226211  0.4374924  0.50118156 0.12574541 0.5238558 ]]\n",
      "After normalization:\n",
      "[[0.74823262 1.         0.34999544 0.8739619  0.49769791]\n",
      " [0.16312526 0.61262939 0.53275158 0.43291922 0.62113813]\n",
      " [0.25018688 0.03140994 0.35682338 0.60481398 0.        ]\n",
      " [0.14443197 0.68451575 0.61970694 0.27320646 0.71560118]\n",
      " [0.62188893 0.42977538 0.49586751 0.10626627 0.51939725]]\n"
     ]
    }
   ],
   "source": [
    "y= np.random.random((5,5))\n",
    "print(\"Original Array:\")\n",
    "print(y)\n",
    "ymax, ymin = y.max(), y.min()\n",
    "y = (y - ymin)/(ymax - ymin)\n",
    "print(\"After normalization:\")\n",
    "print(y)"
   ]
  },
  {
   "cell_type": "markdown",
   "metadata": {},
   "source": [
    "# 5.  How to find common values between two arrays?"
   ]
  },
  {
   "cell_type": "code",
   "execution_count": 16,
   "metadata": {},
   "outputs": [
    {
     "name": "stdout",
     "output_type": "stream",
     "text": [
      "Array1:  [ 0 10 20 40 60]\n",
      "Array2:  [10, 30, 40]\n",
      "Common values between two arrays:\n",
      "[10 40]\n"
     ]
    }
   ],
   "source": [
    "array1 = np.array([0, 10, 20, 40, 60])\n",
    "print(\"Array1: \",array1)\n",
    "array2 = [10, 30, 40]\n",
    "print(\"Array2: \",array2)\n",
    "print(\"Common values between two arrays:\")\n",
    "print(np.intersect1d(array1, array2))"
   ]
  },
  {
   "cell_type": "markdown",
   "metadata": {},
   "source": [
    "# 6.How to get the dates of yesterday, today and tomorrow?"
   ]
  },
  {
   "cell_type": "code",
   "execution_count": 17,
   "metadata": {},
   "outputs": [
    {
     "name": "stdout",
     "output_type": "stream",
     "text": [
      "Yestraday:  2020-07-25\n",
      "Today:  2020-07-26\n",
      "Tomorrow:  2020-07-27\n"
     ]
    }
   ],
   "source": [
    "yesterday = np.datetime64('today', 'D') - np.timedelta64(1, 'D')\n",
    "print(\"Yestraday: \",yesterday)\n",
    "today     = np.datetime64('today', 'D')\n",
    "print(\"Today: \",today)\n",
    "tomorrow  = np.datetime64('today', 'D') + np.timedelta64(1, 'D')\n",
    "print(\"Tomorrow: \",tomorrow)"
   ]
  },
  {
   "cell_type": "markdown",
   "metadata": {},
   "source": [
    "# 7. Consider two random array A and B, check if they are equal"
   ]
  },
  {
   "cell_type": "code",
   "execution_count": 18,
   "metadata": {},
   "outputs": [
    {
     "name": "stdout",
     "output_type": "stream",
     "text": [
      "First array:\n",
      "[1 1 0 0 0 1]\n",
      "Second array:\n",
      "[1 1 1 1 0 1]\n",
      "Are the two arrays equal?\n",
      "False\n"
     ]
    }
   ],
   "source": [
    "x1 = np.random.randint(0,2,6)\n",
    "print(\"First array:\")\n",
    "print(x1)\n",
    "y1 = np.random.randint(0,2,6)\n",
    "print(\"Second array:\")\n",
    "print(y1)\n",
    "print(\"Are the two arrays equal?\")\n",
    "array_equal = np.allclose(x1, y1)\n",
    "print(array_equal)"
   ]
  },
  {
   "cell_type": "markdown",
   "metadata": {},
   "source": [
    "# 8.Create random vector of size 10 and replace the maximum value by 0 "
   ]
  },
  {
   "cell_type": "code",
   "execution_count": 19,
   "metadata": {},
   "outputs": [
    {
     "name": "stdout",
     "output_type": "stream",
     "text": [
      "Original array:\n",
      "[0.08420664 0.12244045 0.02787043 0.40060383 0.63636488 0.39886485\n",
      " 0.67278139 0.42320357 0.329019   0.76412259]\n",
      "Maximum value replaced by 0:\n",
      "[0.08420664 0.12244045 0.02787043 0.40060383 0.63636488 0.39886485\n",
      " 0.67278139 0.42320357 0.329019   0.        ]\n"
     ]
    }
   ],
   "source": [
    "z = np.random.random(10)\n",
    "print(\"Original array:\")\n",
    "print(z)\n",
    "z[z.argmax()] = 0\n",
    "print(\"Maximum value replaced by 0:\")\n",
    "print(z)"
   ]
  },
  {
   "cell_type": "markdown",
   "metadata": {},
   "source": [
    "# 9. How to print all the values of an array?"
   ]
  },
  {
   "cell_type": "code",
   "execution_count": 28,
   "metadata": {},
   "outputs": [
    {
     "name": "stdout",
     "output_type": "stream",
     "text": [
      "[[0. 0. 0. 0. 0. 0. 0. 0. 0. 0. 0. 0.]\n",
      " [0. 0. 0. 0. 0. 0. 0. 0. 0. 0. 0. 0.]\n",
      " [0. 0. 0. 0. 0. 0. 0. 0. 0. 0. 0. 0.]\n",
      " [0. 0. 0. 0. 0. 0. 0. 0. 0. 0. 0. 0.]\n",
      " [0. 0. 0. 0. 0. 0. 0. 0. 0. 0. 0. 0.]\n",
      " [0. 0. 0. 0. 0. 0. 0. 0. 0. 0. 0. 0.]\n",
      " [0. 0. 0. 0. 0. 0. 0. 0. 0. 0. 0. 0.]\n",
      " [0. 0. 0. 0. 0. 0. 0. 0. 0. 0. 0. 0.]\n",
      " [0. 0. 0. 0. 0. 0. 0. 0. 0. 0. 0. 0.]\n",
      " [0. 0. 0. 0. 0. 0. 0. 0. 0. 0. 0. 0.]\n",
      " [0. 0. 0. 0. 0. 0. 0. 0. 0. 0. 0. 0.]\n",
      " [0. 0. 0. 0. 0. 0. 0. 0. 0. 0. 0. 0.]]\n"
     ]
    }
   ],
   "source": [
    "np.set_printoptions(threshold=np.inf)\n",
    "\n",
    "Z1 = np.zeros((12,12))\n",
    "\n",
    "print(Z1)"
   ]
  },
  {
   "cell_type": "markdown",
   "metadata": {},
   "source": [
    "# 10.Subtract the mean of each row of a matrix"
   ]
  },
  {
   "cell_type": "code",
   "execution_count": 24,
   "metadata": {},
   "outputs": [
    {
     "name": "stdout",
     "output_type": "stream",
     "text": [
      "Original matrix:\n",
      "\n",
      "[[0.36940432 0.85650612 0.19377257 0.87438833 0.29402782 0.51855166\n",
      "  0.27883907 0.33267474 0.98077727 0.40709865]\n",
      " [0.98401618 0.75528077 0.41842121 0.92367517 0.23572208 0.20040999\n",
      "  0.58855507 0.95803877 0.65952337 0.40347811]\n",
      " [0.74660503 0.6473661  0.57827526 0.78565612 0.60609365 0.03806528\n",
      "  0.21006664 0.76513316 0.13519502 0.53604302]\n",
      " [0.55940597 0.47565623 0.21608475 0.28178103 0.65613653 0.61796931\n",
      "  0.21502022 0.715253   0.58341808 0.36245097]\n",
      " [0.05032317 0.84387872 0.661464   0.37835121 0.80289929 0.18564408\n",
      "  0.96767286 0.27983544 0.05346049 0.14282892]]\n",
      "\n",
      "Subtracted matrix:\n",
      "\n",
      "[[-0.14119974  0.34590206 -0.31683148  0.36378427 -0.21657624  0.00794761\n",
      "  -0.23176498 -0.17792931  0.47017321 -0.10350541]\n",
      " [ 0.3713041   0.1425687  -0.19429086  0.3109631  -0.37698999 -0.41230208\n",
      "  -0.024157    0.34532669  0.0468113  -0.20923396]\n",
      " [ 0.2417551   0.14251617  0.07342533  0.2808062   0.10124372 -0.46678465\n",
      "  -0.29478329  0.26028324 -0.36965491  0.03119309]\n",
      " [ 0.09108836  0.00733862 -0.25223286 -0.18653658  0.18781892  0.1496517\n",
      "  -0.25329739  0.24693539  0.11510047 -0.10586664]\n",
      " [-0.38631265  0.40724291  0.22482818 -0.05828461  0.36626347 -0.25099174\n",
      "   0.53103704 -0.15680038 -0.38317533 -0.29380689]]\n"
     ]
    }
   ],
   "source": [
    "print(\"Original matrix:\\n\")\n",
    "X = np.random.rand(5, 10)\n",
    "print(X)\n",
    "print(\"\\nSubtracted matrix:\\n\")\n",
    "Y = X - X.mean(axis=1, keepdims=True)\n",
    "print(Y)"
   ]
  },
  {
   "cell_type": "markdown",
   "metadata": {},
   "source": [
    "# 11.Consider a given vector, how to add 1 to each element indexed by a second vector (be careful with repeated indices)? "
   ]
  },
  {
   "cell_type": "code",
   "execution_count": null,
   "metadata": {},
   "outputs": [],
   "source": []
  },
  {
   "cell_type": "code",
   "execution_count": null,
   "metadata": {},
   "outputs": [],
   "source": []
  },
  {
   "cell_type": "markdown",
   "metadata": {},
   "source": [
    "# 12.How to get the diagonal of a dot product?"
   ]
  },
  {
   "cell_type": "code",
   "execution_count": 31,
   "metadata": {},
   "outputs": [
    {
     "data": {
      "text/plain": [
       "array([2.62731183, 1.52925336, 1.37927059, 1.1608938 , 1.58919845])"
      ]
     },
     "execution_count": 31,
     "metadata": {},
     "output_type": "execute_result"
    }
   ],
   "source": [
    "A = np.random.uniform(0,1,(5,5))\n",
    "\n",
    "B = np.random.uniform(0,1,(5,5))\n",
    "\n",
    "np.diag(np.dot(A, B))"
   ]
  },
  {
   "cell_type": "markdown",
   "metadata": {},
   "source": [
    "# 13.How to find the most frequent value in an array?"
   ]
  },
  {
   "cell_type": "code",
   "execution_count": 34,
   "metadata": {},
   "outputs": [
    {
     "name": "stdout",
     "output_type": "stream",
     "text": [
      "Original array:\n",
      "[0 4 9 9 0 3 7 3 8 4 1 0 4 6 5 4 4 6 3 1 7 2 7 6 2 3 9 7 5 6 2 5 8 5 8 1 1\n",
      " 4 7 4]\n",
      "Most frequent value in the above array:\n",
      "4\n"
     ]
    }
   ],
   "source": [
    "s = np.random.randint(0, 10, 40)\n",
    "print(\"Original array:\")\n",
    "print(s)\n",
    "print(\"Most frequent value in the above array:\")\n",
    "print(np.bincount(s).argmax())"
   ]
  },
  {
   "cell_type": "markdown",
   "metadata": {},
   "source": [
    "# 14.How to get the n largest values of an array"
   ]
  },
  {
   "cell_type": "code",
   "execution_count": 37,
   "metadata": {},
   "outputs": [
    {
     "name": "stdout",
     "output_type": "stream",
     "text": [
      "Original array:\n",
      "[0 1 2 3 4 5 6 7 8 9]\n",
      "[8 9]\n"
     ]
    }
   ],
   "source": [
    "p = np.arange(10)\n",
    "print(\"Original array:\")\n",
    "print(p)\n",
    "np.random.shuffle(p)\n",
    "n = 2\n",
    "print (p[np.argsort(p)[-n:]])"
   ]
  },
  {
   "cell_type": "markdown",
   "metadata": {},
   "source": [
    "# 15.How to create a record array from a regular array?"
   ]
  },
  {
   "cell_type": "code",
   "execution_count": 39,
   "metadata": {},
   "outputs": [
    {
     "name": "stdout",
     "output_type": "stream",
     "text": [
      "Original array: \n",
      "[['Hello' '2.5' '3']\n",
      " ['World' '3.6' '2']]\n",
      "Record array: \n",
      "[(b'Hello', 2.5, 3) (b'World', 3.6, 2)]\n"
     ]
    }
   ],
   "source": [
    "Q = np.array([(\"Hello\", 2.5, 3),\n",
    "\n",
    "(\"World\", 3.6, 2)])\n",
    "print(\"Original array: \")\n",
    "print(Q)\n",
    "\n",
    "R = np.core.records.fromarrays(Q.T,\n",
    "\n",
    "names='col1, col2, col3',\n",
    "\n",
    "formats = 'S8, f8, i8')\n",
    "print(\"Record array: \")\n",
    "print(R)"
   ]
  },
  {
   "cell_type": "code",
   "execution_count": null,
   "metadata": {},
   "outputs": [],
   "source": []
  }
 ],
 "metadata": {
  "kernelspec": {
   "display_name": "Python 3",
   "language": "python",
   "name": "python3"
  },
  "language_info": {
   "codemirror_mode": {
    "name": "ipython",
    "version": 3
   },
   "file_extension": ".py",
   "mimetype": "text/x-python",
   "name": "python",
   "nbconvert_exporter": "python",
   "pygments_lexer": "ipython3",
   "version": "3.7.3"
  }
 },
 "nbformat": 4,
 "nbformat_minor": 2
}
